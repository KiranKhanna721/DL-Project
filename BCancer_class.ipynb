{
 "cells": [
  {
   "cell_type": "code",
   "execution_count": 1,
   "metadata": {
    "id": "NjMlc08cTwyn"
   },
   "outputs": [],
   "source": [
    "import numpy as np\n",
    "import pandas as pd\n",
    "import matplotlib.pyplot as plt\n",
    "import seaborn as sns\n",
    "import glob, os\n",
    "\n",
    "import tensorflow as tf\n",
    "from tensorflow import keras\n",
    "from tensorflow.keras import layers, activations, optimizers, losses, metrics, initializers\n",
    "from tensorflow.keras.preprocessing import image, image_dataset_from_directory\n",
    "from tensorflow.keras.applications import MobileNetV3Small, MobileNet, InceptionV3\n",
    "from tensorflow.keras.applications.mobilenet_v3 import preprocess_input, decode_predictions\n",
    "\n",
    "seed = 42\n",
    "tf.random.set_seed(seed)\n",
    "np.random.seed(seed)"
   ]
  },
  {
   "cell_type": "code",
   "execution_count": 2,
   "metadata": {
    "colab": {
     "base_uri": "https://localhost:8080/"
    },
    "id": "1EgNkJm9YaLk",
    "outputId": "13ec08c8-b971-4ff5-de57-a9c660d8640c"
   },
   "outputs": [
    {
     "name": "stdout",
     "output_type": "stream",
     "text": [
      "Collecting opendatasets\n",
      "  Downloading opendatasets-0.1.22-py3-none-any.whl (15 kB)\n",
      "Requirement already satisfied: tqdm in /usr/local/lib/python3.7/dist-packages (from opendatasets) (4.64.0)\n",
      "Requirement already satisfied: click in /usr/local/lib/python3.7/dist-packages (from opendatasets) (7.1.2)\n",
      "Requirement already satisfied: kaggle in /usr/local/lib/python3.7/dist-packages (from opendatasets) (1.5.12)\n",
      "Requirement already satisfied: certifi in /usr/local/lib/python3.7/dist-packages (from kaggle->opendatasets) (2021.10.8)\n",
      "Requirement already satisfied: python-slugify in /usr/local/lib/python3.7/dist-packages (from kaggle->opendatasets) (6.1.2)\n",
      "Requirement already satisfied: requests in /usr/local/lib/python3.7/dist-packages (from kaggle->opendatasets) (2.23.0)\n",
      "Requirement already satisfied: python-dateutil in /usr/local/lib/python3.7/dist-packages (from kaggle->opendatasets) (2.8.2)\n",
      "Requirement already satisfied: six>=1.10 in /usr/local/lib/python3.7/dist-packages (from kaggle->opendatasets) (1.15.0)\n",
      "Requirement already satisfied: urllib3 in /usr/local/lib/python3.7/dist-packages (from kaggle->opendatasets) (1.24.3)\n",
      "Requirement already satisfied: text-unidecode>=1.3 in /usr/local/lib/python3.7/dist-packages (from python-slugify->kaggle->opendatasets) (1.3)\n",
      "Requirement already satisfied: chardet<4,>=3.0.2 in /usr/local/lib/python3.7/dist-packages (from requests->kaggle->opendatasets) (3.0.4)\n",
      "Requirement already satisfied: idna<3,>=2.5 in /usr/local/lib/python3.7/dist-packages (from requests->kaggle->opendatasets) (2.10)\n",
      "Installing collected packages: opendatasets\n",
      "Successfully installed opendatasets-0.1.22\n",
      "Please provide your Kaggle credentials to download this dataset. Learn more: http://bit.ly/kaggle-creds\n",
      "Your Kaggle username: pinky1234\n",
      "Your Kaggle Key: ··········\n",
      "Downloading breast-ultrasound-images-dataset.zip to ./breast-ultrasound-images-dataset\n"
     ]
    },
    {
     "name": "stderr",
     "output_type": "stream",
     "text": [
      "100%|██████████| 195M/195M [00:01<00:00, 187MB/s]\n"
     ]
    },
    {
     "name": "stdout",
     "output_type": "stream",
     "text": [
      "\n"
     ]
    }
   ],
   "source": [
    "!pip install opendatasets --upgrade\n",
    "import opendatasets as od\n",
    "\n",
    "dataset_url = 'https://www.kaggle.com/datasets/aryashah2k/breast-ultrasound-images-dataset'\n",
    "od.download(dataset_url)"
   ]
  },
  {
   "cell_type": "code",
   "execution_count": 3,
   "metadata": {
    "id": "_LfZwaJ0OxI7"
   },
   "outputs": [],
   "source": [
    "data_dir = '/content/breast-ultrasound-images-dataset/Dataset_BUSI_with_GT/'"
   ]
  },
  {
   "cell_type": "code",
   "execution_count": 4,
   "metadata": {
    "id": "8pa2nJ5PyMWD"
   },
   "outputs": [],
   "source": [
    "def prepare_image(file):\n",
    "    img = image.load_img(file, target_size=(128,128))\n",
    "    img_array = image.img_to_array(img)\n",
    "    return tf.keras.applications.efficientnet.preprocess_input (img_array)"
   ]
  },
  {
   "cell_type": "code",
   "execution_count": 5,
   "metadata": {
    "colab": {
     "base_uri": "https://localhost:8080/"
    },
    "id": "SEzUCCAgIyOM",
    "outputId": "b9d41f85-2d1c-4a92-9c37-24287c5cd30f"
   },
   "outputs": [
    {
     "data": {
      "text/plain": [
       "(1578, 1578)"
      ]
     },
     "execution_count": 5,
     "metadata": {},
     "output_type": "execute_result"
    }
   ],
   "source": [
    "directories = os.listdir(data_dir) # read the folders\n",
    "\n",
    "files = [] # save all images for each folder\n",
    "labels = [] # set for each image the name of it\n",
    "\n",
    "# read files for each directory\n",
    "for folder in directories:\n",
    "    \n",
    "    fileList = glob.glob(data_dir + '/'+ folder + '/*')\n",
    "    labels.extend([folder for l in fileList])\n",
    "    files.extend(fileList)\n",
    "    \n",
    "len(files), len(labels)"
   ]
  },
  {
   "cell_type": "code",
   "execution_count": 6,
   "metadata": {
    "colab": {
     "base_uri": "https://localhost:8080/"
    },
    "id": "6etgNwfyI9-b",
    "outputId": "3dea3d33-624e-4423-8418-6a757d409f36"
   },
   "outputs": [
    {
     "data": {
      "text/plain": [
       "(798, 798)"
      ]
     },
     "execution_count": 6,
     "metadata": {},
     "output_type": "execute_result"
    }
   ],
   "source": [
    "selected_files = []\n",
    "selected_labels = []\n",
    "\n",
    "for file, label in zip(files, labels):\n",
    "    if 'mask' in file:\n",
    "        selected_files.append(file)\n",
    "        selected_labels.append(label)\n",
    "\n",
    "    \n",
    "len(selected_files), len(selected_labels)"
   ]
  },
  {
   "cell_type": "code",
   "execution_count": 7,
   "metadata": {
    "colab": {
     "base_uri": "https://localhost:8080/"
    },
    "id": "eXoLlZYJJKBF",
    "outputId": "10de94f7-4ed4-4e93-9649-4960d94b251b"
   },
   "outputs": [
    {
     "name": "stdout",
     "output_type": "stream",
     "text": [
      "Preparing the image...\n"
     ]
    }
   ],
   "source": [
    "images = {\n",
    "    'image': [], \n",
    "    'target': []\n",
    "}\n",
    "\n",
    "print('Preparing the image...')\n",
    "\n",
    "for i, (file, label) in enumerate(zip(selected_files, selected_labels)):\n",
    "    images['image'].append(prepare_image(file))\n",
    "    images['target'].append(label)"
   ]
  },
  {
   "cell_type": "code",
   "execution_count": 8,
   "metadata": {
    "colab": {
     "base_uri": "https://localhost:8080/"
    },
    "id": "RAhEfm2QJUxd",
    "outputId": "843838ae-2b49-4f03-e3e3-1dec28d36968"
   },
   "outputs": [
    {
     "name": "stdout",
     "output_type": "stream",
     "text": [
      "the target classes are: ['benign' 'malignant' 'normal']\n"
     ]
    }
   ],
   "source": [
    "images['image'] = np.array(images['image'])\n",
    "images['target'] = np.array(images['target'])\n",
    "\n",
    "# encode the target\n",
    "from sklearn.preprocessing import LabelEncoder\n",
    "le = LabelEncoder()\n",
    "\n",
    "images['target'] = le.fit_transform(images['target'])\n",
    "\n",
    "classes = le.classes_ # get the classes for each target\n",
    "print(f'the target classes are: {classes}')"
   ]
  },
  {
   "cell_type": "code",
   "execution_count": 9,
   "metadata": {
    "colab": {
     "base_uri": "https://localhost:8080/"
    },
    "id": "vc6N4_3BKGzd",
    "outputId": "73f5c1cc-12e0-4f2f-9d57-9115d614c884"
   },
   "outputs": [
    {
     "data": {
      "text/plain": [
       "((718, 128, 128, 3), (80, 128, 128, 3), (718,), (80,))"
      ]
     },
     "execution_count": 9,
     "metadata": {},
     "output_type": "execute_result"
    }
   ],
   "source": [
    "from sklearn.model_selection import train_test_split\n",
    "\n",
    "x_train, x_test, y_train, y_test = train_test_split(images['image'], images['target'], test_size=.10)\n",
    "\n",
    "x_train.shape, x_test.shape, y_train.shape, y_test.shape "
   ]
  },
  {
   "cell_type": "code",
   "execution_count": 10,
   "metadata": {
    "colab": {
     "base_uri": "https://localhost:8080/"
    },
    "id": "gPm3V_IjJlFT",
    "outputId": "0f294bee-e1d4-44c0-ad03-44fc28264bae"
   },
   "outputs": [
    {
     "name": "stdout",
     "output_type": "stream",
     "text": [
      "Downloading data from https://storage.googleapis.com/keras-applications/efficientnetb7_notop.h5\n",
      "258080768/258076736 [==============================] - 2s 0us/step\n",
      "258088960/258076736 [==============================] - 2s 0us/step\n"
     ]
    }
   ],
   "source": [
    "from tensorflow.keras.applications import EfficientNetB7\n",
    "base_model = EfficientNetB7(\n",
    "    include_top=False,\n",
    "    weights='imagenet',\n",
    "    input_shape=(128,128, 3),\n",
    "    classes=3)\n",
    "\n",
    "# Freeze the base_model\n",
    "base_model.trainable = False\n",
    "\n",
    "# append my own layers on the top of the model for Transfer Learning\n",
    "x = base_model.output\n",
    "\n",
    "# 1st conv block\n",
    "x = layers.Conv2D(256, 3, padding='same')(x)\n",
    "x = layers.BatchNormalization()(x)\n",
    "x = layers.Activation('relu')(x)\n",
    "x = layers.GlobalAveragePooling2D(keepdims = True)(x)\n",
    "\n",
    "# 2nd conv block\n",
    "x = layers.Conv2D(128, 3, padding='same')(x)\n",
    "x = layers.BatchNormalization()(x)\n",
    "x = layers.Activation('relu')(x)\n",
    "x = layers.GlobalAveragePooling2D(keepdims = True)(x)\n",
    "\n",
    "# 1st FC layer\n",
    "x = layers.Flatten()(x) \n",
    "x = layers.Dense(64)(x)\n",
    "x = layers.BatchNormalization()(x)\n",
    "x = layers.Activation('relu')(x)\n",
    "\n",
    "# 2nd FC layer\n",
    "x = layers.Dense(32, activation = 'relu')(x)\n",
    "x = layers.BatchNormalization()(x)\n",
    "x = layers.Activation('relu')(x)\n",
    "x = layers.Dropout(.2)(x)\n",
    "\n",
    "x = layers.Dense(3, 'softmax')(x)\n",
    "\n",
    "incept_model = keras.models.Model(inputs = base_model.input, outputs = x)\n",
    "\n",
    "# compile the model\n",
    "incept_model.compile(optimizer=optimizers.RMSprop(.001), loss = losses.sparse_categorical_crossentropy, metrics= [metrics.SparseCategoricalAccuracy()])"
   ]
  },
  {
   "cell_type": "code",
   "execution_count": 11,
   "metadata": {
    "colab": {
     "base_uri": "https://localhost:8080/"
    },
    "id": "Z-d5MfcSJ4q0",
    "outputId": "7a12dcd6-ff6f-4c0e-f01b-2cfc460e5a0d"
   },
   "outputs": [
    {
     "name": "stdout",
     "output_type": "stream",
     "text": [
      "Epoch 1/200\n",
      "23/23 [==============================] - 60s 880ms/step - loss: 0.7244 - sparse_categorical_accuracy: 0.7242 - val_loss: 1.0579 - val_sparse_categorical_accuracy: 0.4125\n",
      "Epoch 2/200\n",
      "23/23 [==============================] - 11s 497ms/step - loss: 0.3956 - sparse_categorical_accuracy: 0.8955 - val_loss: 0.9491 - val_sparse_categorical_accuracy: 0.5500\n",
      "Epoch 3/200\n",
      "23/23 [==============================] - 11s 468ms/step - loss: 0.3306 - sparse_categorical_accuracy: 0.9109 - val_loss: 0.8360 - val_sparse_categorical_accuracy: 0.5500\n",
      "Epoch 4/200\n",
      "23/23 [==============================] - 8s 362ms/step - loss: 0.2983 - sparse_categorical_accuracy: 0.9276 - val_loss: 0.8903 - val_sparse_categorical_accuracy: 0.5500\n",
      "Epoch 5/200\n",
      "23/23 [==============================] - 11s 487ms/step - loss: 0.2634 - sparse_categorical_accuracy: 0.9123 - val_loss: 0.6892 - val_sparse_categorical_accuracy: 0.5875\n",
      "Epoch 6/200\n",
      "23/23 [==============================] - 8s 362ms/step - loss: 0.2669 - sparse_categorical_accuracy: 0.9206 - val_loss: 1.0290 - val_sparse_categorical_accuracy: 0.5625\n",
      "Epoch 7/200\n",
      "23/23 [==============================] - 11s 464ms/step - loss: 0.2624 - sparse_categorical_accuracy: 0.9095 - val_loss: 0.4650 - val_sparse_categorical_accuracy: 0.8500\n",
      "Epoch 8/200\n",
      "23/23 [==============================] - 8s 360ms/step - loss: 0.2091 - sparse_categorical_accuracy: 0.9220 - val_loss: 0.4986 - val_sparse_categorical_accuracy: 0.7500\n",
      "Epoch 9/200\n",
      "23/23 [==============================] - 10s 460ms/step - loss: 0.2348 - sparse_categorical_accuracy: 0.9248 - val_loss: 0.4494 - val_sparse_categorical_accuracy: 0.7375\n",
      "Epoch 10/200\n",
      "23/23 [==============================] - 8s 360ms/step - loss: 0.2062 - sparse_categorical_accuracy: 0.9373 - val_loss: 0.4696 - val_sparse_categorical_accuracy: 0.7875\n",
      "Epoch 11/200\n",
      "23/23 [==============================] - 11s 482ms/step - loss: 0.2026 - sparse_categorical_accuracy: 0.9359 - val_loss: 0.4114 - val_sparse_categorical_accuracy: 0.8375\n",
      "Epoch 12/200\n",
      "23/23 [==============================] - 8s 360ms/step - loss: 0.2010 - sparse_categorical_accuracy: 0.9276 - val_loss: 0.6358 - val_sparse_categorical_accuracy: 0.7875\n",
      "Epoch 13/200\n",
      "23/23 [==============================] - 8s 359ms/step - loss: 0.1599 - sparse_categorical_accuracy: 0.9485 - val_loss: 1.5766 - val_sparse_categorical_accuracy: 0.6000\n",
      "Epoch 14/200\n",
      "23/23 [==============================] - 8s 358ms/step - loss: 0.1818 - sparse_categorical_accuracy: 0.9373 - val_loss: 1.6015 - val_sparse_categorical_accuracy: 0.6250\n",
      "Epoch 15/200\n",
      "23/23 [==============================] - 11s 476ms/step - loss: 0.1890 - sparse_categorical_accuracy: 0.9471 - val_loss: 0.1193 - val_sparse_categorical_accuracy: 0.9500\n",
      "Epoch 16/200\n",
      "23/23 [==============================] - 8s 360ms/step - loss: 0.1943 - sparse_categorical_accuracy: 0.9345 - val_loss: 0.4098 - val_sparse_categorical_accuracy: 0.8625\n",
      "Epoch 17/200\n",
      "23/23 [==============================] - 8s 359ms/step - loss: 0.1491 - sparse_categorical_accuracy: 0.9485 - val_loss: 1.7139 - val_sparse_categorical_accuracy: 0.5750\n",
      "Epoch 18/200\n",
      "23/23 [==============================] - 8s 359ms/step - loss: 0.1603 - sparse_categorical_accuracy: 0.9485 - val_loss: 0.3317 - val_sparse_categorical_accuracy: 0.8375\n",
      "Epoch 19/200\n",
      "23/23 [==============================] - 8s 359ms/step - loss: 0.1400 - sparse_categorical_accuracy: 0.9513 - val_loss: 0.2817 - val_sparse_categorical_accuracy: 0.8625\n",
      "Epoch 20/200\n",
      "23/23 [==============================] - 8s 359ms/step - loss: 0.1354 - sparse_categorical_accuracy: 0.9582 - val_loss: 0.1226 - val_sparse_categorical_accuracy: 0.9375\n",
      "Epoch 21/200\n",
      "23/23 [==============================] - 8s 359ms/step - loss: 0.1958 - sparse_categorical_accuracy: 0.9457 - val_loss: 1.8808 - val_sparse_categorical_accuracy: 0.6875\n",
      "Epoch 22/200\n",
      "23/23 [==============================] - 8s 359ms/step - loss: 0.1797 - sparse_categorical_accuracy: 0.9429 - val_loss: 0.1770 - val_sparse_categorical_accuracy: 0.9500\n",
      "Epoch 23/200\n",
      "23/23 [==============================] - 10s 460ms/step - loss: 0.1507 - sparse_categorical_accuracy: 0.9443 - val_loss: 0.0721 - val_sparse_categorical_accuracy: 0.9750\n",
      "Epoch 24/200\n",
      "23/23 [==============================] - 8s 360ms/step - loss: 0.1586 - sparse_categorical_accuracy: 0.9568 - val_loss: 0.6795 - val_sparse_categorical_accuracy: 0.6625\n",
      "Epoch 25/200\n",
      "23/23 [==============================] - 8s 359ms/step - loss: 0.1626 - sparse_categorical_accuracy: 0.9485 - val_loss: 0.3043 - val_sparse_categorical_accuracy: 0.8750\n",
      "Epoch 26/200\n",
      "23/23 [==============================] - 8s 360ms/step - loss: 0.1091 - sparse_categorical_accuracy: 0.9624 - val_loss: 0.2232 - val_sparse_categorical_accuracy: 0.9250\n",
      "Epoch 27/200\n",
      "23/23 [==============================] - 8s 360ms/step - loss: 0.1424 - sparse_categorical_accuracy: 0.9471 - val_loss: 0.3528 - val_sparse_categorical_accuracy: 0.8625\n",
      "Epoch 28/200\n",
      "23/23 [==============================] - 8s 359ms/step - loss: 0.1328 - sparse_categorical_accuracy: 0.9554 - val_loss: 0.5424 - val_sparse_categorical_accuracy: 0.7000\n",
      "Epoch 29/200\n",
      "23/23 [==============================] - 8s 360ms/step - loss: 0.1535 - sparse_categorical_accuracy: 0.9499 - val_loss: 0.4810 - val_sparse_categorical_accuracy: 0.8250\n",
      "Epoch 30/200\n",
      "23/23 [==============================] - 8s 360ms/step - loss: 0.1285 - sparse_categorical_accuracy: 0.9582 - val_loss: 0.1160 - val_sparse_categorical_accuracy: 0.9375\n",
      "Epoch 31/200\n",
      "23/23 [==============================] - 8s 360ms/step - loss: 0.1521 - sparse_categorical_accuracy: 0.9540 - val_loss: 0.2239 - val_sparse_categorical_accuracy: 0.9250\n",
      "Epoch 32/200\n",
      "23/23 [==============================] - 8s 361ms/step - loss: 0.1580 - sparse_categorical_accuracy: 0.9540 - val_loss: 0.2522 - val_sparse_categorical_accuracy: 0.8875\n",
      "Epoch 33/200\n",
      "23/23 [==============================] - 8s 361ms/step - loss: 0.1315 - sparse_categorical_accuracy: 0.9513 - val_loss: 0.1061 - val_sparse_categorical_accuracy: 0.9625\n",
      "Epoch 34/200\n",
      "23/23 [==============================] - 8s 361ms/step - loss: 0.1515 - sparse_categorical_accuracy: 0.9499 - val_loss: 0.1027 - val_sparse_categorical_accuracy: 0.9375\n",
      "Epoch 35/200\n",
      "23/23 [==============================] - 8s 362ms/step - loss: 0.1256 - sparse_categorical_accuracy: 0.9526 - val_loss: 0.2547 - val_sparse_categorical_accuracy: 0.8875\n",
      "Epoch 36/200\n",
      "23/23 [==============================] - 8s 361ms/step - loss: 0.1433 - sparse_categorical_accuracy: 0.9596 - val_loss: 0.2490 - val_sparse_categorical_accuracy: 0.8875\n",
      "Epoch 37/200\n",
      "23/23 [==============================] - 8s 361ms/step - loss: 0.1533 - sparse_categorical_accuracy: 0.9499 - val_loss: 0.8092 - val_sparse_categorical_accuracy: 0.8000\n",
      "Epoch 38/200\n",
      "23/23 [==============================] - 11s 463ms/step - loss: 0.1312 - sparse_categorical_accuracy: 0.9540 - val_loss: 0.0617 - val_sparse_categorical_accuracy: 0.9875\n",
      "Epoch 39/200\n",
      "23/23 [==============================] - 8s 361ms/step - loss: 0.1198 - sparse_categorical_accuracy: 0.9596 - val_loss: 0.1287 - val_sparse_categorical_accuracy: 0.9625\n",
      "Epoch 40/200\n",
      "23/23 [==============================] - 8s 361ms/step - loss: 0.1218 - sparse_categorical_accuracy: 0.9568 - val_loss: 0.0641 - val_sparse_categorical_accuracy: 0.9750\n",
      "Epoch 41/200\n",
      "23/23 [==============================] - 8s 361ms/step - loss: 0.1458 - sparse_categorical_accuracy: 0.9499 - val_loss: 0.6854 - val_sparse_categorical_accuracy: 0.7875\n",
      "Epoch 42/200\n",
      "23/23 [==============================] - 8s 361ms/step - loss: 0.1493 - sparse_categorical_accuracy: 0.9457 - val_loss: 0.0933 - val_sparse_categorical_accuracy: 0.9625\n",
      "Epoch 43/200\n",
      "23/23 [==============================] - 8s 361ms/step - loss: 0.1219 - sparse_categorical_accuracy: 0.9596 - val_loss: 0.1235 - val_sparse_categorical_accuracy: 0.9500\n",
      "Epoch 44/200\n",
      "23/23 [==============================] - 8s 361ms/step - loss: 0.1197 - sparse_categorical_accuracy: 0.9568 - val_loss: 3.1322 - val_sparse_categorical_accuracy: 0.7125\n",
      "Epoch 45/200\n",
      "23/23 [==============================] - 8s 362ms/step - loss: 0.1161 - sparse_categorical_accuracy: 0.9568 - val_loss: 0.2026 - val_sparse_categorical_accuracy: 0.9250\n",
      "Epoch 46/200\n",
      "23/23 [==============================] - 8s 362ms/step - loss: 0.1326 - sparse_categorical_accuracy: 0.9526 - val_loss: 0.3572 - val_sparse_categorical_accuracy: 0.8875\n",
      "Epoch 47/200\n",
      "23/23 [==============================] - 8s 362ms/step - loss: 0.1159 - sparse_categorical_accuracy: 0.9666 - val_loss: 0.3316 - val_sparse_categorical_accuracy: 0.8750\n",
      "Epoch 48/200\n",
      "23/23 [==============================] - 9s 383ms/step - loss: 0.1222 - sparse_categorical_accuracy: 0.9652 - val_loss: 0.0659 - val_sparse_categorical_accuracy: 0.9750\n",
      "Epoch 49/200\n",
      "23/23 [==============================] - 8s 361ms/step - loss: 0.1267 - sparse_categorical_accuracy: 0.9582 - val_loss: 0.2288 - val_sparse_categorical_accuracy: 0.9000\n",
      "Epoch 50/200\n",
      "23/23 [==============================] - 8s 361ms/step - loss: 0.1381 - sparse_categorical_accuracy: 0.9582 - val_loss: 0.2335 - val_sparse_categorical_accuracy: 0.9250\n",
      "Epoch 51/200\n",
      "23/23 [==============================] - 8s 361ms/step - loss: 0.1156 - sparse_categorical_accuracy: 0.9582 - val_loss: 0.4320 - val_sparse_categorical_accuracy: 0.8750\n",
      "Epoch 52/200\n",
      "23/23 [==============================] - 8s 362ms/step - loss: 0.1316 - sparse_categorical_accuracy: 0.9554 - val_loss: 0.0718 - val_sparse_categorical_accuracy: 0.9750\n",
      "Epoch 53/200\n",
      "23/23 [==============================] - 11s 487ms/step - loss: 0.1288 - sparse_categorical_accuracy: 0.9526 - val_loss: 0.0570 - val_sparse_categorical_accuracy: 0.9750\n",
      "Epoch 54/200\n",
      "23/23 [==============================] - 8s 362ms/step - loss: 0.1169 - sparse_categorical_accuracy: 0.9638 - val_loss: 0.0702 - val_sparse_categorical_accuracy: 0.9625\n",
      "Epoch 55/200\n",
      "23/23 [==============================] - 8s 361ms/step - loss: 0.1402 - sparse_categorical_accuracy: 0.9540 - val_loss: 0.1519 - val_sparse_categorical_accuracy: 0.9375\n",
      "Epoch 56/200\n",
      "23/23 [==============================] - 8s 361ms/step - loss: 0.1153 - sparse_categorical_accuracy: 0.9582 - val_loss: 0.1351 - val_sparse_categorical_accuracy: 0.9625\n",
      "Epoch 57/200\n",
      "23/23 [==============================] - 8s 361ms/step - loss: 0.1059 - sparse_categorical_accuracy: 0.9638 - val_loss: 0.1016 - val_sparse_categorical_accuracy: 0.9750\n",
      "Epoch 58/200\n",
      "23/23 [==============================] - 8s 361ms/step - loss: 0.1227 - sparse_categorical_accuracy: 0.9540 - val_loss: 0.4791 - val_sparse_categorical_accuracy: 0.8375\n",
      "Epoch 59/200\n",
      "23/23 [==============================] - 8s 361ms/step - loss: 0.1331 - sparse_categorical_accuracy: 0.9540 - val_loss: 0.6405 - val_sparse_categorical_accuracy: 0.8000\n",
      "Epoch 60/200\n",
      "23/23 [==============================] - 9s 383ms/step - loss: 0.1296 - sparse_categorical_accuracy: 0.9568 - val_loss: 0.4050 - val_sparse_categorical_accuracy: 0.8625\n",
      "Epoch 61/200\n",
      "23/23 [==============================] - 8s 361ms/step - loss: 0.1038 - sparse_categorical_accuracy: 0.9638 - val_loss: 0.1159 - val_sparse_categorical_accuracy: 0.9500\n",
      "Epoch 62/200\n",
      "23/23 [==============================] - 8s 362ms/step - loss: 0.1181 - sparse_categorical_accuracy: 0.9596 - val_loss: 0.2087 - val_sparse_categorical_accuracy: 0.9125\n",
      "Epoch 63/200\n",
      "23/23 [==============================] - 8s 361ms/step - loss: 0.1156 - sparse_categorical_accuracy: 0.9624 - val_loss: 0.4648 - val_sparse_categorical_accuracy: 0.8750\n",
      "Epoch 64/200\n",
      "23/23 [==============================] - 8s 361ms/step - loss: 0.1092 - sparse_categorical_accuracy: 0.9638 - val_loss: 0.2938 - val_sparse_categorical_accuracy: 0.8250\n",
      "Epoch 65/200\n",
      "23/23 [==============================] - 8s 362ms/step - loss: 0.1102 - sparse_categorical_accuracy: 0.9735 - val_loss: 0.2726 - val_sparse_categorical_accuracy: 0.8625\n",
      "Epoch 66/200\n",
      "23/23 [==============================] - 11s 488ms/step - loss: 0.1173 - sparse_categorical_accuracy: 0.9568 - val_loss: 0.0392 - val_sparse_categorical_accuracy: 0.9875\n",
      "Epoch 67/200\n",
      "23/23 [==============================] - 8s 363ms/step - loss: 0.1214 - sparse_categorical_accuracy: 0.9638 - val_loss: 0.1860 - val_sparse_categorical_accuracy: 0.9500\n",
      "Epoch 68/200\n",
      "23/23 [==============================] - 8s 362ms/step - loss: 0.1012 - sparse_categorical_accuracy: 0.9694 - val_loss: 1.2130 - val_sparse_categorical_accuracy: 0.6000\n",
      "Epoch 69/200\n",
      "23/23 [==============================] - 8s 362ms/step - loss: 0.1254 - sparse_categorical_accuracy: 0.9582 - val_loss: 0.0487 - val_sparse_categorical_accuracy: 0.9875\n",
      "Epoch 70/200\n",
      "23/23 [==============================] - 8s 361ms/step - loss: 0.1449 - sparse_categorical_accuracy: 0.9624 - val_loss: 0.7086 - val_sparse_categorical_accuracy: 0.6250\n",
      "Epoch 71/200\n",
      "23/23 [==============================] - 8s 362ms/step - loss: 0.1116 - sparse_categorical_accuracy: 0.9554 - val_loss: 0.5867 - val_sparse_categorical_accuracy: 0.8125\n",
      "Epoch 72/200\n",
      "23/23 [==============================] - 8s 362ms/step - loss: 0.1589 - sparse_categorical_accuracy: 0.9582 - val_loss: 0.0910 - val_sparse_categorical_accuracy: 0.9875\n",
      "Epoch 73/200\n",
      "23/23 [==============================] - 8s 362ms/step - loss: 0.1061 - sparse_categorical_accuracy: 0.9666 - val_loss: 0.0600 - val_sparse_categorical_accuracy: 0.9750\n",
      "Epoch 74/200\n",
      "23/23 [==============================] - 8s 362ms/step - loss: 0.1011 - sparse_categorical_accuracy: 0.9680 - val_loss: 0.0550 - val_sparse_categorical_accuracy: 0.9750\n",
      "Epoch 75/200\n",
      "23/23 [==============================] - 8s 362ms/step - loss: 0.1242 - sparse_categorical_accuracy: 0.9596 - val_loss: 0.3343 - val_sparse_categorical_accuracy: 0.9125\n",
      "Epoch 76/200\n",
      "23/23 [==============================] - 8s 362ms/step - loss: 0.1077 - sparse_categorical_accuracy: 0.9610 - val_loss: 0.0944 - val_sparse_categorical_accuracy: 0.9625\n",
      "Epoch 77/200\n",
      "23/23 [==============================] - 8s 362ms/step - loss: 0.1037 - sparse_categorical_accuracy: 0.9680 - val_loss: 0.1227 - val_sparse_categorical_accuracy: 0.9500\n",
      "Epoch 78/200\n",
      "23/23 [==============================] - 8s 362ms/step - loss: 0.1129 - sparse_categorical_accuracy: 0.9652 - val_loss: 0.3216 - val_sparse_categorical_accuracy: 0.7750\n",
      "Epoch 79/200\n",
      "23/23 [==============================] - 8s 363ms/step - loss: 0.1031 - sparse_categorical_accuracy: 0.9652 - val_loss: 0.1869 - val_sparse_categorical_accuracy: 0.9375\n",
      "Epoch 80/200\n",
      "23/23 [==============================] - 8s 363ms/step - loss: 0.0795 - sparse_categorical_accuracy: 0.9708 - val_loss: 0.2248 - val_sparse_categorical_accuracy: 0.9250\n",
      "Epoch 81/200\n",
      "23/23 [==============================] - 8s 364ms/step - loss: 0.0984 - sparse_categorical_accuracy: 0.9680 - val_loss: 0.0833 - val_sparse_categorical_accuracy: 0.9625\n",
      "Epoch 82/200\n",
      "23/23 [==============================] - 9s 384ms/step - loss: 0.1124 - sparse_categorical_accuracy: 0.9554 - val_loss: 2.3473 - val_sparse_categorical_accuracy: 0.6875\n",
      "Epoch 83/200\n",
      "23/23 [==============================] - 8s 362ms/step - loss: 0.1007 - sparse_categorical_accuracy: 0.9596 - val_loss: 0.3271 - val_sparse_categorical_accuracy: 0.8750\n",
      "Epoch 84/200\n",
      "23/23 [==============================] - 8s 362ms/step - loss: 0.1020 - sparse_categorical_accuracy: 0.9638 - val_loss: 0.2578 - val_sparse_categorical_accuracy: 0.8750\n",
      "Epoch 85/200\n",
      "23/23 [==============================] - 8s 363ms/step - loss: 0.1012 - sparse_categorical_accuracy: 0.9582 - val_loss: 0.1478 - val_sparse_categorical_accuracy: 0.9625\n",
      "Epoch 86/200\n",
      "23/23 [==============================] - 8s 362ms/step - loss: 0.0869 - sparse_categorical_accuracy: 0.9708 - val_loss: 0.1866 - val_sparse_categorical_accuracy: 0.9250\n",
      "Epoch 87/200\n",
      "23/23 [==============================] - 8s 362ms/step - loss: 0.1106 - sparse_categorical_accuracy: 0.9624 - val_loss: 0.1198 - val_sparse_categorical_accuracy: 0.9625\n",
      "Epoch 88/200\n",
      "23/23 [==============================] - 8s 362ms/step - loss: 0.0986 - sparse_categorical_accuracy: 0.9652 - val_loss: 0.0756 - val_sparse_categorical_accuracy: 0.9625\n",
      "Epoch 89/200\n",
      "23/23 [==============================] - 9s 384ms/step - loss: 0.1087 - sparse_categorical_accuracy: 0.9610 - val_loss: 0.2015 - val_sparse_categorical_accuracy: 0.9000\n",
      "Epoch 90/200\n",
      "23/23 [==============================] - 8s 362ms/step - loss: 0.1021 - sparse_categorical_accuracy: 0.9652 - val_loss: 0.4932 - val_sparse_categorical_accuracy: 0.8250\n",
      "Epoch 91/200\n",
      "23/23 [==============================] - 8s 362ms/step - loss: 0.0917 - sparse_categorical_accuracy: 0.9652 - val_loss: 0.1143 - val_sparse_categorical_accuracy: 0.9375\n",
      "Epoch 92/200\n",
      "23/23 [==============================] - 8s 362ms/step - loss: 0.0778 - sparse_categorical_accuracy: 0.9763 - val_loss: 0.0774 - val_sparse_categorical_accuracy: 0.9750\n",
      "Epoch 93/200\n",
      "23/23 [==============================] - 8s 362ms/step - loss: 0.1469 - sparse_categorical_accuracy: 0.9582 - val_loss: 0.0671 - val_sparse_categorical_accuracy: 0.9750\n",
      "Epoch 94/200\n",
      "23/23 [==============================] - 9s 383ms/step - loss: 0.1041 - sparse_categorical_accuracy: 0.9666 - val_loss: 0.1203 - val_sparse_categorical_accuracy: 0.9500\n",
      "Epoch 95/200\n",
      "23/23 [==============================] - 8s 363ms/step - loss: 0.0968 - sparse_categorical_accuracy: 0.9666 - val_loss: 1.0350 - val_sparse_categorical_accuracy: 0.7000\n",
      "Epoch 96/200\n",
      "23/23 [==============================] - 8s 363ms/step - loss: 0.1179 - sparse_categorical_accuracy: 0.9596 - val_loss: 0.1230 - val_sparse_categorical_accuracy: 0.9625\n",
      "Epoch 97/200\n",
      "23/23 [==============================] - 8s 363ms/step - loss: 0.0836 - sparse_categorical_accuracy: 0.9749 - val_loss: 0.0780 - val_sparse_categorical_accuracy: 0.9750\n",
      "Epoch 98/200\n",
      "23/23 [==============================] - 8s 364ms/step - loss: 0.0914 - sparse_categorical_accuracy: 0.9680 - val_loss: 2.5181 - val_sparse_categorical_accuracy: 0.7500\n",
      "Epoch 99/200\n",
      "23/23 [==============================] - 8s 363ms/step - loss: 0.0919 - sparse_categorical_accuracy: 0.9666 - val_loss: 0.1007 - val_sparse_categorical_accuracy: 0.9625\n",
      "Epoch 100/200\n",
      "23/23 [==============================] - 8s 364ms/step - loss: 0.1132 - sparse_categorical_accuracy: 0.9582 - val_loss: 0.2939 - val_sparse_categorical_accuracy: 0.9250\n",
      "Epoch 101/200\n",
      "23/23 [==============================] - 8s 363ms/step - loss: 0.0918 - sparse_categorical_accuracy: 0.9638 - val_loss: 0.5022 - val_sparse_categorical_accuracy: 0.8750\n",
      "Epoch 102/200\n",
      "23/23 [==============================] - 8s 364ms/step - loss: 0.0751 - sparse_categorical_accuracy: 0.9694 - val_loss: 0.1616 - val_sparse_categorical_accuracy: 0.9625\n",
      "Epoch 103/200\n",
      "23/23 [==============================] - 8s 364ms/step - loss: 0.0836 - sparse_categorical_accuracy: 0.9708 - val_loss: 0.0602 - val_sparse_categorical_accuracy: 0.9750\n",
      "Epoch 104/200\n",
      "23/23 [==============================] - 8s 363ms/step - loss: 0.0996 - sparse_categorical_accuracy: 0.9624 - val_loss: 0.1940 - val_sparse_categorical_accuracy: 0.9500\n",
      "Epoch 105/200\n",
      "23/23 [==============================] - 8s 364ms/step - loss: 0.0747 - sparse_categorical_accuracy: 0.9805 - val_loss: 0.1316 - val_sparse_categorical_accuracy: 0.9500\n",
      "Epoch 106/200\n",
      "23/23 [==============================] - 8s 364ms/step - loss: 0.1051 - sparse_categorical_accuracy: 0.9666 - val_loss: 0.3882 - val_sparse_categorical_accuracy: 0.8125\n",
      "Epoch 107/200\n",
      "23/23 [==============================] - 8s 364ms/step - loss: 0.1050 - sparse_categorical_accuracy: 0.9694 - val_loss: 0.6905 - val_sparse_categorical_accuracy: 0.7500\n",
      "Epoch 108/200\n",
      "23/23 [==============================] - 8s 363ms/step - loss: 0.1091 - sparse_categorical_accuracy: 0.9680 - val_loss: 0.0619 - val_sparse_categorical_accuracy: 0.9875\n",
      "Epoch 109/200\n",
      "23/23 [==============================] - 9s 385ms/step - loss: 0.0880 - sparse_categorical_accuracy: 0.9749 - val_loss: 0.0716 - val_sparse_categorical_accuracy: 0.9625\n",
      "Epoch 110/200\n",
      "23/23 [==============================] - 8s 364ms/step - loss: 0.0974 - sparse_categorical_accuracy: 0.9638 - val_loss: 0.0696 - val_sparse_categorical_accuracy: 0.9625\n",
      "Epoch 111/200\n",
      "23/23 [==============================] - 8s 364ms/step - loss: 0.0826 - sparse_categorical_accuracy: 0.9721 - val_loss: 0.1697 - val_sparse_categorical_accuracy: 0.9375\n",
      "Epoch 112/200\n",
      "23/23 [==============================] - 8s 364ms/step - loss: 0.0907 - sparse_categorical_accuracy: 0.9680 - val_loss: 0.1320 - val_sparse_categorical_accuracy: 0.9625\n",
      "Epoch 113/200\n",
      "23/23 [==============================] - 8s 364ms/step - loss: 0.0860 - sparse_categorical_accuracy: 0.9708 - val_loss: 0.2169 - val_sparse_categorical_accuracy: 0.9125\n",
      "Epoch 114/200\n",
      "23/23 [==============================] - 8s 364ms/step - loss: 0.0710 - sparse_categorical_accuracy: 0.9819 - val_loss: 0.3146 - val_sparse_categorical_accuracy: 0.8875\n",
      "Epoch 115/200\n",
      "23/23 [==============================] - 8s 364ms/step - loss: 0.1198 - sparse_categorical_accuracy: 0.9610 - val_loss: 0.2156 - val_sparse_categorical_accuracy: 0.9250\n",
      "Epoch 116/200\n",
      "23/23 [==============================] - 8s 364ms/step - loss: 0.0850 - sparse_categorical_accuracy: 0.9708 - val_loss: 0.1493 - val_sparse_categorical_accuracy: 0.9625\n",
      "Epoch 117/200\n",
      "23/23 [==============================] - 8s 364ms/step - loss: 0.0944 - sparse_categorical_accuracy: 0.9708 - val_loss: 0.2153 - val_sparse_categorical_accuracy: 0.9125\n",
      "Epoch 118/200\n",
      "23/23 [==============================] - 8s 364ms/step - loss: 0.0915 - sparse_categorical_accuracy: 0.9708 - val_loss: 0.2704 - val_sparse_categorical_accuracy: 0.9125\n",
      "Epoch 119/200\n",
      "23/23 [==============================] - 8s 363ms/step - loss: 0.1189 - sparse_categorical_accuracy: 0.9568 - val_loss: 0.1113 - val_sparse_categorical_accuracy: 0.9625\n",
      "Epoch 120/200\n",
      "23/23 [==============================] - 8s 364ms/step - loss: 0.0881 - sparse_categorical_accuracy: 0.9721 - val_loss: 0.0454 - val_sparse_categorical_accuracy: 0.9750\n",
      "Epoch 121/200\n",
      "23/23 [==============================] - 8s 364ms/step - loss: 0.0854 - sparse_categorical_accuracy: 0.9721 - val_loss: 0.1036 - val_sparse_categorical_accuracy: 0.9500\n",
      "Epoch 122/200\n",
      "23/23 [==============================] - 9s 386ms/step - loss: 0.0821 - sparse_categorical_accuracy: 0.9735 - val_loss: 0.0493 - val_sparse_categorical_accuracy: 0.9875\n",
      "Epoch 123/200\n",
      "23/23 [==============================] - 8s 364ms/step - loss: 0.0916 - sparse_categorical_accuracy: 0.9694 - val_loss: 0.5727 - val_sparse_categorical_accuracy: 0.8500\n",
      "Epoch 124/200\n",
      "23/23 [==============================] - 8s 364ms/step - loss: 0.0871 - sparse_categorical_accuracy: 0.9735 - val_loss: 1.0530 - val_sparse_categorical_accuracy: 0.8000\n",
      "Epoch 125/200\n",
      "23/23 [==============================] - 8s 364ms/step - loss: 0.1046 - sparse_categorical_accuracy: 0.9721 - val_loss: 0.3657 - val_sparse_categorical_accuracy: 0.9000\n",
      "Epoch 126/200\n",
      "23/23 [==============================] - 8s 364ms/step - loss: 0.0626 - sparse_categorical_accuracy: 0.9819 - val_loss: 0.1338 - val_sparse_categorical_accuracy: 0.9250\n"
     ]
    }
   ],
   "source": [
    "earlyStop = keras.callbacks.EarlyStopping(patience=60) \n",
    "best_model = keras.callbacks.ModelCheckpoint(filepath='best_model.h5', save_best_only=True) \n",
    "\n",
    "with tf.device('/gpu:0'):\n",
    "    history = incept_model.fit(x_train, y_train, batch_size=32, epochs=200, validation_data=(x_test, y_test), callbacks=[earlyStop, best_model])"
   ]
  },
  {
   "cell_type": "code",
   "execution_count": 12,
   "metadata": {
    "colab": {
     "base_uri": "https://localhost:8080/",
     "height": 282
    },
    "id": "WuFQWz-fzExu",
    "outputId": "a293b02e-3a7e-4ee5-dd65-c53c0ceab216"
   },
   "outputs": [
    {
     "data": {
      "text/plain": [
       "<matplotlib.legend.Legend at 0x7ff486c9e450>"
      ]
     },
     "execution_count": 12,
     "metadata": {},
     "output_type": "execute_result"
    },
    {
     "data": {
      "image/png": "[encoded data removed]",
      "text/plain": [
       "<Figure size 432x288 with 1 Axes>"
      ]
     },
     "metadata": {
      "needs_background": "light"
     },
     "output_type": "display_data"
    }
   ],
   "source": [
    "hist = history.history\n",
    "\n",
    "plt.plot(hist['loss'], label=  'loss')\n",
    "plt.plot(hist['val_loss'], label = 'val_loss')\n",
    "plt.plot(hist['sparse_categorical_accuracy'], label='accuracy')\n",
    "plt.plot(hist['val_sparse_categorical_accuracy'], label='val_accuracy')\n",
    "plt.legend()"
   ]
  },
  {
   "cell_type": "code",
   "execution_count": 13,
   "metadata": {
    "id": "s6aO9USCzT4E"
   },
   "outputs": [],
   "source": [
    "def predict_image(img_path, label):\n",
    "    img1 = prepare_image(img_path) # preprocess the image\n",
    "    res = incept_model.predict(np.expand_dims(img1, axis = 0)) # predict the image\n",
    "    pred = classes[np.argmax(res)]\n",
    "\n",
    "    # Visualize the image\n",
    "    img = image.load_img(img_path)\n",
    "    plt.imshow(np.array(img))\n",
    "    plt.title(f'True: {label}\\nPredicted: {pred}')"
   ]
  },
  {
   "cell_type": "code",
   "execution_count": 14,
   "metadata": {
    "colab": {
     "base_uri": "https://localhost:8080/",
     "height": 296
    },
    "id": "iJ1p_za4zdYE",
    "outputId": "bd7997a3-f406-411d-cee9-4cf2b9603a03"
   },
   "outputs": [
    {
     "data": {
      "image/png": "[encoded data removed]",
      "text/plain": [
       "<Figure size 432x288 with 1 Axes>"
      ]
     },
     "metadata": {
      "needs_background": "light"
     },
     "output_type": "display_data"
    }
   ],
   "source": [
    "predict_image(data_dir + 'benign/benign (10)_mask.png', 'benign')"
   ]
  },
  {
   "cell_type": "code",
   "execution_count": 15,
   "metadata": {
    "colab": {
     "base_uri": "https://localhost:8080/",
     "height": 296
    },
    "id": "RpuCS4drzlVj",
    "outputId": "a8a02de4-ffaf-4afc-a6f5-bc8214ab535a"
   },
   "outputs": [
    {
     "data": {
      "image/png": "[encoded data removed]",
      "text/plain": [
       "<Figure size 432x288 with 1 Axes>"
      ]
     },
     "metadata": {
      "needs_background": "light"
     },
     "output_type": "display_data"
    }
   ],
   "source": [
    "predict_image(data_dir + 'normal/normal (10)_mask.png', 'normal')"
   ]
  },
  {
   "cell_type": "markdown",
   "metadata": {
    "id": "XBC924FPEmF8"
   },
   "source": [
    "# VGG 16"
   ]
  },
  {
   "cell_type": "code",
   "execution_count": 16,
   "metadata": {
    "id": "4QBYr62szyHJ"
   },
   "outputs": [],
   "source": [
    "from keras.applications.vgg16 import VGG16, preprocess_input\n",
    "from keras.preprocessing.image import ImageDataGenerator\n",
    "from keras.callbacks import ModelCheckpoint, EarlyStopping\n",
    "from keras.layers import Dense, Dropout, Flatten\n",
    "from pathlib import Path"
   ]
  },
  {
   "cell_type": "code",
   "execution_count": 17,
   "metadata": {
    "id": "o7HhHw454EIH"
   },
   "outputs": [],
   "source": [
    "def create_model(input_shape, n_classes, optimizer='rmsprop', fine_tune=0):\n",
    "  conv_base = VGG16(include_top=False,\n",
    "                     weights='imagenet', \n",
    "                     input_shape=input_shape)\n",
    "  if fine_tune > 0:\n",
    "        for layer in conv_base.layers[:-fine_tune]:\n",
    "            layer.trainable = False\n",
    "  else:\n",
    "    for layer in conv_base.layers:\n",
    "      layer.trainable = False\n",
    "  top_model = conv_base.output\n",
    "  top_model = Flatten(name=\"flatten\")(top_model)\n",
    "  top_model = Dense(4096, activation='relu')(top_model)\n",
    "  top_model = Dense(1072, activation='relu')(top_model)\n",
    "  top_model = Dropout(0.2)(top_model)\n",
    "  output_layer = Dense(n_classes, activation='softmax')(top_model)\n",
    "  model = Model(inputs=conv_base.input, outputs=output_layer)\n",
    "  model.compile(optimizer=optimizer, \n",
    "                  loss='sparse_categorical_crossentropy',\n",
    "                  metrics=['accuracy'])\n",
    "  return model"
   ]
  },
  {
   "cell_type": "code",
   "execution_count": 18,
   "metadata": {
    "id": "cQ3Qu8gK4LP8"
   },
   "outputs": [],
   "source": [
    "BATCH_SIZE = 64"
   ]
  },
  {
   "cell_type": "code",
   "execution_count": 19,
   "metadata": {
    "id": "_-PM0dRP4ssj"
   },
   "outputs": [],
   "source": [
    "from keras.losses import categorical_crossentropy\n",
    "#from keras.layers import Activation, BatchNormalization, Conv2D, Dense, Flatten, MaxPooling2D\n",
    "from keras.layers import Activation, BatchNormalization, Dense, Dropout, Flatten, GlobalAveragePooling2D\n",
    "from tensorflow.keras.applications import densenet, inception_v3, mobilenet, resnet50, vgg16, vgg19, xception\n",
    "from keras.models import Sequential, Model\n",
    "from tensorflow.keras.optimizers import Adam\n",
    "from keras import regularizers\n",
    "from tensorflow.keras.utils import to_categorical as keras_to_categorical"
   ]
  },
  {
   "cell_type": "code",
   "execution_count": 20,
   "metadata": {
    "colab": {
     "base_uri": "https://localhost:8080/"
    },
    "id": "D5V_4Lny4Sj5",
    "outputId": "45a9bc1f-c45c-4ebe-b584-abe8e0fef500"
   },
   "outputs": [
    {
     "name": "stdout",
     "output_type": "stream",
     "text": [
      "Downloading data from https://storage.googleapis.com/tensorflow/keras-applications/vgg16/vgg16_weights_tf_dim_ordering_tf_kernels_notop.h5\n",
      "58892288/58889256 [==============================] - 0s 0us/step\n",
      "58900480/58889256 [==============================] - 0s 0us/step\n"
     ]
    }
   ],
   "source": [
    "input_shape = (128,128, 3)\n",
    "optim_1 = optimizers.RMSprop(.001)\n",
    "n_classes=3\n",
    "optim_2 = Adam(learning_rate=0.001)\n",
    "n_epochs = 50\n",
    "vgg_model = create_model(input_shape, n_classes, optim_1, fine_tune=0)\n",
    "vgg_model1 = create_model(input_shape, n_classes, optim_2, fine_tune=0)"
   ]
  },
  {
   "cell_type": "code",
   "execution_count": 21,
   "metadata": {
    "id": "tzCq2RHb41P5"
   },
   "outputs": [],
   "source": [
    "best_model1 = ModelCheckpoint(filepath='vgg_bc.h5',\n",
    "                                  save_best_only=True,\n",
    "                                  verbose=1)\n",
    "\n",
    "# EarlyStopping\n",
    "early_stop = EarlyStopping(monitor='val_loss',\n",
    "                           patience=10,\n",
    "                           restore_best_weights=True,\n",
    "                           mode='min')"
   ]
  },
  {
   "cell_type": "code",
   "execution_count": 22,
   "metadata": {
    "id": "31frVRkK6xcl"
   },
   "outputs": [],
   "source": [
    "best_model2 = ModelCheckpoint(filepath='vgg_bcA.h5',\n",
    "                                  save_best_only=True,\n",
    "                                  verbose=1)\n"
   ]
  },
  {
   "cell_type": "code",
   "execution_count": 23,
   "metadata": {
    "colab": {
     "base_uri": "https://localhost:8080/"
    },
    "id": "xjUjhBkK5E3B",
    "outputId": "9876f1ee-60e9-441e-862a-c4836934de6d"
   },
   "outputs": [
    {
     "name": "stdout",
     "output_type": "stream",
     "text": [
      "Epoch 1/200\n",
      "12/12 [==============================] - ETA: 0s - loss: 115.2907 - accuracy: 0.7911\n",
      "Epoch 1: val_loss improved from inf to 70.72515, saving model to vgg_bc.h5\n",
      "12/12 [==============================] - 12s 727ms/step - loss: 115.2907 - accuracy: 0.7911 - val_loss: 70.7252 - val_accuracy: 0.4875\n",
      "Epoch 2/200\n",
      "12/12 [==============================] - ETA: 0s - loss: 10.6829 - accuracy: 0.9220\n",
      "Epoch 2: val_loss improved from 70.72515 to 0.00004, saving model to vgg_bc.h5\n",
      "12/12 [==============================] - 4s 376ms/step - loss: 10.6829 - accuracy: 0.9220 - val_loss: 3.7017e-05 - val_accuracy: 1.0000\n",
      "Epoch 3/200\n",
      "12/12 [==============================] - ETA: 0s - loss: 1.8759 - accuracy: 0.9582\n",
      "Epoch 3: val_loss improved from 0.00004 to 0.00000, saving model to vgg_bc.h5\n",
      "12/12 [==============================] - 4s 315ms/step - loss: 1.8759 - accuracy: 0.9582 - val_loss: 1.4901e-09 - val_accuracy: 1.0000\n",
      "Epoch 4/200\n",
      "12/12 [==============================] - ETA: 0s - loss: 0.3132 - accuracy: 0.9833\n",
      "Epoch 4: val_loss did not improve from 0.00000\n",
      "12/12 [==============================] - 3s 223ms/step - loss: 0.3132 - accuracy: 0.9833 - val_loss: 0.0439 - val_accuracy: 0.9875\n",
      "Epoch 5/200\n",
      "12/12 [==============================] - ETA: 0s - loss: 0.0547 - accuracy: 0.9944\n",
      "Epoch 5: val_loss did not improve from 0.00000\n",
      "12/12 [==============================] - 3s 223ms/step - loss: 0.0547 - accuracy: 0.9944 - val_loss: 0.5230 - val_accuracy: 0.9500\n",
      "Epoch 6/200\n",
      "12/12 [==============================] - ETA: 0s - loss: 1.3146 - accuracy: 0.9624\n",
      "Epoch 6: val_loss did not improve from 0.00000\n",
      "12/12 [==============================] - 3s 222ms/step - loss: 1.3146 - accuracy: 0.9624 - val_loss: 18.0025 - val_accuracy: 0.8375\n",
      "Epoch 7/200\n",
      "12/12 [==============================] - ETA: 0s - loss: 1.8410 - accuracy: 0.9708\n",
      "Epoch 7: val_loss did not improve from 0.00000\n",
      "12/12 [==============================] - 3s 223ms/step - loss: 1.8410 - accuracy: 0.9708 - val_loss: 2.6473 - val_accuracy: 0.9500\n",
      "Epoch 8/200\n",
      "12/12 [==============================] - ETA: 0s - loss: 0.7431 - accuracy: 0.9777\n",
      "Epoch 8: val_loss did not improve from 0.00000\n",
      "12/12 [==============================] - 3s 222ms/step - loss: 0.7431 - accuracy: 0.9777 - val_loss: 0.0045 - val_accuracy: 1.0000\n",
      "Epoch 9/200\n",
      "12/12 [==============================] - ETA: 0s - loss: 0.2990 - accuracy: 0.9847\n",
      "Epoch 9: val_loss did not improve from 0.00000\n",
      "12/12 [==============================] - 3s 223ms/step - loss: 0.2990 - accuracy: 0.9847 - val_loss: 0.0163 - val_accuracy: 0.9875\n",
      "Epoch 10/200\n",
      "12/12 [==============================] - ETA: 0s - loss: 0.7605 - accuracy: 0.9791\n",
      "Epoch 10: val_loss did not improve from 0.00000\n",
      "12/12 [==============================] - 3s 223ms/step - loss: 0.7605 - accuracy: 0.9791 - val_loss: 3.7502 - val_accuracy: 0.9125\n",
      "Epoch 11/200\n",
      "12/12 [==============================] - ETA: 0s - loss: 0.6114 - accuracy: 0.9819\n",
      "Epoch 11: val_loss did not improve from 0.00000\n",
      "12/12 [==============================] - 3s 222ms/step - loss: 0.6114 - accuracy: 0.9819 - val_loss: 1.8863 - val_accuracy: 0.9625\n",
      "Epoch 12/200\n",
      "12/12 [==============================] - ETA: 0s - loss: 0.4785 - accuracy: 0.9805\n",
      "Epoch 12: val_loss did not improve from 0.00000\n",
      "12/12 [==============================] - 3s 222ms/step - loss: 0.4785 - accuracy: 0.9805 - val_loss: 0.0881 - val_accuracy: 0.9875\n",
      "Epoch 13/200\n",
      "12/12 [==============================] - ETA: 0s - loss: 0.3176 - accuracy: 0.9833\n",
      "Epoch 13: val_loss did not improve from 0.00000\n",
      "12/12 [==============================] - 3s 226ms/step - loss: 0.3176 - accuracy: 0.9833 - val_loss: 2.3550e-05 - val_accuracy: 1.0000\n"
     ]
    }
   ],
   "source": [
    "with tf.device('/gpu:0'):\n",
    "    history1 = vgg_model.fit(x_train, y_train, batch_size=64, epochs=200, validation_data=(x_test, y_test), callbacks=[early_stop,best_model1])"
   ]
  },
  {
   "cell_type": "code",
   "execution_count": 27,
   "metadata": {
    "colab": {
     "base_uri": "https://localhost:8080/",
     "height": 285
    },
    "id": "1XJTLbJVIS55",
    "outputId": "a3c6918b-a0fe-470e-9394-dda363832889"
   },
   "outputs": [
    {
     "data": {
      "text/plain": [
       "<matplotlib.legend.Legend at 0x7ff4fabe7f50>"
      ]
     },
     "execution_count": 27,
     "metadata": {},
     "output_type": "execute_result"
    },
    {
     "data": {
      "image/png": "[encoded data removed]",
      "text/plain": [
       "<Figure size 432x288 with 1 Axes>"
      ]
     },
     "metadata": {
      "needs_background": "light"
     },
     "output_type": "display_data"
    }
   ],
   "source": [
    "hist1 = history1.history\n",
    "\n",
    "plt.plot(hist1['loss'], label=  'loss')\n",
    "plt.plot(hist1['val_loss'], label = 'val_loss')\n",
    "plt.plot(hist1['accuracy'], label='train_accuracy')\n",
    "plt.plot(hist1['val_accuracy'], label='val_accuracy')\n",
    "plt.legend()"
   ]
  },
  {
   "cell_type": "code",
   "execution_count": 28,
   "metadata": {
    "id": "z6-fh6XkJnLH"
   },
   "outputs": [],
   "source": [
    "def predict_image1(img_path, label):\n",
    "    img1 = prepare_image(img_path) # preprocess the image\n",
    "    res = vgg_model.predict(np.expand_dims(img1, axis = 0)) # predict the image\n",
    "    pred = classes[np.argmax(res)]\n",
    "\n",
    "    # Visualize the image\n",
    "    img = image.load_img(img_path)\n",
    "    plt.imshow(np.array(img))\n",
    "    plt.title(f'True: {label}\\nPredicted: {pred}')"
   ]
  },
  {
   "cell_type": "code",
   "execution_count": 29,
   "metadata": {
    "colab": {
     "base_uri": "https://localhost:8080/",
     "height": 296
    },
    "id": "BZJFBQ63J4Kd",
    "outputId": "4b4afdc1-0539-428f-b35b-dae208177420"
   },
   "outputs": [
    {
     "data": {
      "image/png": "[encoded data removed]",
      "text/plain": [
       "<Figure size 432x288 with 1 Axes>"
      ]
     },
     "metadata": {
      "needs_background": "light"
     },
     "output_type": "display_data"
    }
   ],
   "source": [
    "predict_image1(data_dir + 'benign/benign (10)_mask.png', 'benign')"
   ]
  },
  {
   "cell_type": "code",
   "execution_count": 30,
   "metadata": {
    "colab": {
     "base_uri": "https://localhost:8080/"
    },
    "id": "lZKNZK6-6UDu",
    "outputId": "863c0b7a-8a6a-48a3-9c5d-1f7ee8f560af"
   },
   "outputs": [
    {
     "name": "stdout",
     "output_type": "stream",
     "text": [
      "Epoch 1/200\n",
      "23/23 [==============================] - ETA: 0s - loss: 0.0438 - accuracy: 0.9986\n",
      "Epoch 10: val_loss did not improve from 0.00000\n",
      "23/23 [==============================] - 3s 120ms/step - loss: 0.0438 - accuracy: 0.9986 - val_loss: 0.0000e+00 - val_accuracy: 1.0000\n",
      "Epoch 11/200\n",
      "23/23 [==============================] - ETA: 0s - loss: 0.0505 - accuracy: 0.9958\n",
      "Epoch 11: val_loss did not improve from 0.00000\n",
      "23/23 [==============================] - 3s 120ms/step - loss: 0.0505 - accuracy: 0.9958 - val_loss: 6.5496e-04 - val_accuracy: 1.0000\n",
      "Epoch 12/200\n",
      "23/23 [==============================] - ETA: 0s - loss: 0.0611 - accuracy: 0.9958\n",
      "Epoch 12: val_loss did not improve from 0.00000\n",
      "23/23 [==============================] - 3s 121ms/step - loss: 0.0611 - accuracy: 0.9958 - val_loss: 0.0000e+00 - val_accuracy: 1.0000\n",
      "Epoch 13/200\n",
      "23/23 [==============================] - ETA: 0s - loss: 0.0352 - accuracy: 0.9972\n",
      "Epoch 13: val_loss did not improve from 0.00000\n",
      "23/23 [==============================] - 3s 120ms/step - loss: 0.0352 - accuracy: 0.9972 - val_loss: 0.0000e+00 - val_accuracy: 1.0000\n",
      "Epoch 14/200\n",
      "23/23 [==============================] - ETA: 0s - loss: 0.0936 - accuracy: 0.9972\n",
      "Epoch 14: val_loss did not improve from 0.00000\n",
      "23/23 [==============================] - 3s 120ms/step - loss: 0.0936 - accuracy: 0.9972 - val_loss: 0.0489 - val_accuracy: 0.9750\n",
      "Epoch 15/200\n",
      "23/23 [==============================] - ETA: 0s - loss: 0.1318 - accuracy: 0.9930\n",
      "Epoch 15: val_loss did not improve from 0.00000\n",
      "23/23 [==============================] - 3s 121ms/step - loss: 0.1318 - accuracy: 0.9930 - val_loss: 0.4938 - val_accuracy: 0.9500\n",
      "Epoch 16/200\n",
      "23/23 [==============================] - ETA: 0s - loss: 0.4028 - accuracy: 0.9763\n",
      "Epoch 16: val_loss did not improve from 0.00000\n",
      "23/23 [==============================] - 3s 121ms/step - loss: 0.4028 - accuracy: 0.9763 - val_loss: 0.0000e+00 - val_accuracy: 1.0000\n",
      "Epoch 17/200\n",
      "23/23 [==============================] - ETA: 0s - loss: 0.7539 - accuracy: 0.9805\n",
      "Epoch 17: val_loss did not improve from 0.00000\n",
      "23/23 [==============================] - 3s 121ms/step - loss: 0.7539 - accuracy: 0.9805 - val_loss: 0.4863 - val_accuracy: 0.9750\n",
      "Epoch 18/200\n",
      "23/23 [==============================] - ETA: 0s - loss: 0.2136 - accuracy: 0.9903\n",
      "Epoch 18: val_loss did not improve from 0.00000\n",
      "23/23 [==============================] - 3s 120ms/step - loss: 0.2136 - accuracy: 0.9903 - val_loss: 3.4123e-07 - val_accuracy: 1.0000\n",
      "Epoch 19/200\n",
      "23/23 [==============================] - ETA: 0s - loss: 0.0691 - accuracy: 0.9958\n",
      "Epoch 19: val_loss did not improve from 0.00000\n",
      "23/23 [==============================] - 3s 122ms/step - loss: 0.0691 - accuracy: 0.9958 - val_loss: 0.0000e+00 - val_accuracy: 1.0000\n"
     ]
    }
   ],
   "source": [
    "with tf.device('/gpu:0'):\n",
    "    history2 = vgg_model1.fit(x_train, y_train, batch_size=32, epochs=200, validation_data=(x_test, y_test), callbacks=[early_stop,best_model2])"
   ]
  },
  {
   "cell_type": "code",
   "execution_count": 32,
   "metadata": {
    "colab": {
     "base_uri": "https://localhost:8080/",
     "height": 282
    },
    "id": "5kFlxcn4Kb-r",
    "outputId": "08c49bf1-3a4e-4430-b119-48d77888e47e"
   },
   "outputs": [
    {
     "data": {
      "text/plain": [
       "<matplotlib.legend.Legend at 0x7ff4851938d0>"
      ]
     },
     "execution_count": 32,
     "metadata": {},
     "output_type": "execute_result"
    },
    {
     "data": {
      "image/png": "[encoded data removed]",
      "text/plain": [
       "<Figure size 432x288 with 1 Axes>"
      ]
     },
     "metadata": {
      "needs_background": "light"
     },
     "output_type": "display_data"
    }
   ],
   "source": [
    "hist2 = history2.history\n",
    "\n",
    "plt.plot(hist2['loss'], label=  'loss')\n",
    "plt.plot(hist2['val_loss'], label = 'val_loss')\n",
    "plt.plot(hist2['accuracy'], label='accuracy')\n",
    "plt.plot(hist2['val_accuracy'], label='val_accuracy')\n",
    "plt.legend()"
   ]
  },
  {
   "cell_type": "markdown",
   "metadata": {
    "id": "t4Y8kuTHLeTM"
   },
   "source": [
    "# MobileNet"
   ]
  },
  {
   "cell_type": "code",
   "execution_count": 39,
   "metadata": {
    "colab": {
     "base_uri": "https://localhost:8080/"
    },
    "id": "ysdKiXMpLqml",
    "outputId": "a082d4a2-6d8c-4637-f3f2-3bc8cafdd528"
   },
   "outputs": [
    {
     "name": "stdout",
     "output_type": "stream",
     "text": [
      "Downloading data from https://storage.googleapis.com/tensorflow/keras-applications/mobilenet_v2/mobilenet_v2_weights_tf_dim_ordering_tf_kernels_1.0_128_no_top.h5\n",
      "9412608/9406464 [==============================] - 0s 0us/step\n",
      "9420800/9406464 [==============================] - 0s 0us/step\n"
     ]
    }
   ],
   "source": [
    "IMG_SHAPE = (128,128,3)\n",
    "base_model = tf.keras.applications.MobileNetV2(input_shape=IMG_SHAPE,\n",
    "                                              include_top=False,\n",
    "                                              weights='imagenet')"
   ]
  },
  {
   "cell_type": "code",
   "execution_count": 40,
   "metadata": {
    "id": "g9TlZdoCMD83"
   },
   "outputs": [],
   "source": [
    "best_model3 = ModelCheckpoint(filepath='best_modelmo.h5',\n",
    "                                  save_best_only=True,\n",
    "                                  verbose=1)"
   ]
  },
  {
   "cell_type": "code",
   "execution_count": 42,
   "metadata": {
    "id": "_hD89QxSNk69"
   },
   "outputs": [],
   "source": [
    "base_model.trainable = False\n",
    "model = tf.keras.Sequential([\n",
    "                          base_model,\n",
    "                          keras.layers.GlobalAveragePooling2D(),\n",
    "                          keras.layers.Dense(3, activation='sigmoid')])"
   ]
  },
  {
   "cell_type": "code",
   "execution_count": 45,
   "metadata": {
    "colab": {
     "base_uri": "https://localhost:8080/"
    },
    "id": "aCkjPGMFNwWN",
    "outputId": "40a2349a-9b7a-4991-dd92-2bfde047a61a"
   },
   "outputs": [
    {
     "name": "stderr",
     "output_type": "stream",
     "text": [
      "/usr/local/lib/python3.7/dist-packages/keras/optimizer_v2/rmsprop.py:130: UserWarning: The `lr` argument is deprecated, use `learning_rate` instead.\n",
      "  super(RMSprop, self).__init__(name, **kwargs)\n"
     ]
    }
   ],
   "source": [
    "model.compile(optimizer=tf.keras.optimizers.RMSprop(lr=0.01),\n",
    "              loss='sparse_categorical_crossentropy',\n",
    "                  metrics=['accuracy'])"
   ]
  },
  {
   "cell_type": "code",
   "execution_count": 48,
   "metadata": {
    "colab": {
     "base_uri": "https://localhost:8080/"
    },
    "id": "ruZfJLoNOAY9",
    "outputId": "b7d39848-8896-4eeb-cbbc-6f5ef9045948"
   },
   "outputs": [
    {
     "name": "stdout",
     "output_type": "stream",
     "text": [
      "Epoch 1/200\n",
      "23/23 [==============================] - 6s 112ms/step - loss: 1.1966 - accuracy: 0.8050 - val_loss: 0.8138 - val_accuracy: 0.7125\n",
      "Epoch 2/200\n",
      "23/23 [==============================] - 1s 41ms/step - loss: 0.2771 - accuracy: 0.9192 - val_loss: 0.0760 - val_accuracy: 0.9625\n",
      "Epoch 3/200\n",
      "23/23 [==============================] - 1s 38ms/step - loss: 0.1780 - accuracy: 0.9499 - val_loss: 4.1918 - val_accuracy: 0.4625\n",
      "Epoch 4/200\n",
      "23/23 [==============================] - 1s 42ms/step - loss: 0.3539 - accuracy: 0.9331 - val_loss: 0.0758 - val_accuracy: 0.9875\n",
      "Epoch 5/200\n",
      "23/23 [==============================] - 1s 41ms/step - loss: 0.1697 - accuracy: 0.9582 - val_loss: 0.4145 - val_accuracy: 0.9250\n",
      "Epoch 6/200\n",
      "23/23 [==============================] - 1s 40ms/step - loss: 0.2486 - accuracy: 0.9429 - val_loss: 0.1244 - val_accuracy: 0.9750\n",
      "Epoch 7/200\n",
      "23/23 [==============================] - 1s 37ms/step - loss: 0.1140 - accuracy: 0.9721 - val_loss: 0.1783 - val_accuracy: 0.9625\n",
      "Epoch 8/200\n",
      "23/23 [==============================] - 1s 37ms/step - loss: 0.3009 - accuracy: 0.9429 - val_loss: 0.1045 - val_accuracy: 0.9625\n",
      "Epoch 9/200\n",
      "23/23 [==============================] - 1s 40ms/step - loss: 0.0844 - accuracy: 0.9791 - val_loss: 0.2152 - val_accuracy: 0.9500\n",
      "Epoch 10/200\n",
      "23/23 [==============================] - 1s 37ms/step - loss: 0.1857 - accuracy: 0.9582 - val_loss: 0.2607 - val_accuracy: 0.9625\n",
      "Epoch 11/200\n",
      "23/23 [==============================] - 1s 37ms/step - loss: 0.1075 - accuracy: 0.9694 - val_loss: 0.1569 - val_accuracy: 0.9625\n",
      "Epoch 12/200\n",
      "23/23 [==============================] - 1s 38ms/step - loss: 0.2116 - accuracy: 0.9610 - val_loss: 0.1394 - val_accuracy: 0.9750\n",
      "Epoch 13/200\n",
      "23/23 [==============================] - 1s 38ms/step - loss: 0.0674 - accuracy: 0.9819 - val_loss: 0.2717 - val_accuracy: 0.9375\n",
      "Epoch 14/200\n",
      "23/23 [==============================] - 1s 44ms/step - loss: 0.0870 - accuracy: 0.9819 - val_loss: 0.1586 - val_accuracy: 0.9625\n"
     ]
    }
   ],
   "source": [
    "history3 = model.fit(x_train, y_train, batch_size=32, epochs=200, validation_data=(x_test, y_test), callbacks=[early_stop,best_model])"
   ]
  },
  {
   "cell_type": "code",
   "execution_count": 49,
   "metadata": {
    "colab": {
     "base_uri": "https://localhost:8080/",
     "height": 282
    },
    "id": "YIyNSYjuOmjw",
    "outputId": "480378e5-1d13-49e3-9b0d-74b88a490e2a"
   },
   "outputs": [
    {
     "data": {
      "text/plain": [
       "<matplotlib.legend.Legend at 0x7ff4822d2b10>"
      ]
     },
     "execution_count": 49,
     "metadata": {},
     "output_type": "execute_result"
    },
    {
     "data": {
      "image/png": "[encoded data removed]",
      "text/plain": [
       "<Figure size 432x288 with 1 Axes>"
      ]
     },
     "metadata": {
      "needs_background": "light"
     },
     "output_type": "display_data"
    }
   ],
   "source": [
    "hist3 = history3.history\n",
    "\n",
    "plt.plot(hist3['loss'], label=  'loss')\n",
    "plt.plot(hist3['val_loss'], label = 'val_loss')\n",
    "plt.plot(hist3['accuracy'], label='train_accuracy')\n",
    "plt.plot(hist3['val_accuracy'], label='val_accuracy')\n",
    "plt.legend()"
   ]
  }
 ],
 "metadata": {
  "accelerator": "GPU",
  "colab": {
   "collapsed_sections": [],
   "name": "BCancer_class.ipynb",
   "provenance": []
  },
  "kernelspec": {
   "display_name": "Python 3 (ipykernel)",
   "language": "python",
   "name": "python3"
  },
  "language_info": {
   "codemirror_mode": {
    "name": "ipython",
    "version": 3
   },
   "file_extension": ".py",
   "mimetype": "text/x-python",
   "name": "python",
   "nbconvert_exporter": "python",
   "pygments_lexer": "ipython3",
   "version": "3.9.7"
  }
 },
 "nbformat": 4,
 "nbformat_minor": 1
}
