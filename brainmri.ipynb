{
 "cells": [
  {
   "cell_type": "code",
   "execution_count": 46,
   "metadata": {
    "id": "cX1z5tyU-kjG"
   },
   "outputs": [],
   "source": [
    "import cv2\n",
    "import gc\n",
    "import tensorflow\n",
    "import keras\n",
    "import keras.backend as K\n",
    "from tensorflow.keras import optimizers\n",
    "from keras.callbacks import ModelCheckpoint\n",
    "from keras.models import load_model\n",
    "from keras.losses import categorical_crossentropy\n",
    "#from keras.layers import Activation, BatchNormalization, Conv2D, Dense, Flatten, MaxPooling2D\n",
    "from keras.layers import Activation, BatchNormalization, Dense, Dropout, Flatten, GlobalAveragePooling2D\n",
    "from tensorflow.keras.applications import densenet, inception_v3, mobilenet, resnet50, vgg16, vgg19, xception\n",
    "from keras.models import Sequential, Model\n",
    "from tensorflow.keras.optimizers import Adam\n",
    "from keras import regularizers\n",
    "from tensorflow.keras.utils import to_categorical as keras_to_categorical\n",
    "import numpy as np"
   ]
  },
  {
   "cell_type": "code",
   "execution_count": 2,
   "metadata": {
    "colab": {
     "base_uri": "https://localhost:8080/"
    },
    "id": "xd7xFsUWyLdV",
    "outputId": "04845b32-0592-478e-85d9-266d33fde3d0"
   },
   "outputs": [
    {
     "name": "stdout",
     "output_type": "stream",
     "text": [
      "Collecting opendatasets\n",
      "  Downloading opendatasets-0.1.22-py3-none-any.whl (15 kB)\n",
      "Requirement already satisfied: kaggle in /usr/local/lib/python3.7/dist-packages (from opendatasets) (1.5.12)\n",
      "Requirement already satisfied: tqdm in /usr/local/lib/python3.7/dist-packages (from opendatasets) (4.64.0)\n",
      "Requirement already satisfied: click in /usr/local/lib/python3.7/dist-packages (from opendatasets) (7.1.2)\n",
      "Requirement already satisfied: six>=1.10 in /usr/local/lib/python3.7/dist-packages (from kaggle->opendatasets) (1.15.0)\n",
      "Requirement already satisfied: urllib3 in /usr/local/lib/python3.7/dist-packages (from kaggle->opendatasets) (1.24.3)\n",
      "Requirement already satisfied: requests in /usr/local/lib/python3.7/dist-packages (from kaggle->opendatasets) (2.23.0)\n",
      "Requirement already satisfied: certifi in /usr/local/lib/python3.7/dist-packages (from kaggle->opendatasets) (2021.10.8)\n",
      "Requirement already satisfied: python-dateutil in /usr/local/lib/python3.7/dist-packages (from kaggle->opendatasets) (2.8.2)\n",
      "Requirement already satisfied: python-slugify in /usr/local/lib/python3.7/dist-packages (from kaggle->opendatasets) (6.1.2)\n",
      "Requirement already satisfied: text-unidecode>=1.3 in /usr/local/lib/python3.7/dist-packages (from python-slugify->kaggle->opendatasets) (1.3)\n",
      "Requirement already satisfied: chardet<4,>=3.0.2 in /usr/local/lib/python3.7/dist-packages (from requests->kaggle->opendatasets) (3.0.4)\n",
      "Requirement already satisfied: idna<3,>=2.5 in /usr/local/lib/python3.7/dist-packages (from requests->kaggle->opendatasets) (2.10)\n",
      "Installing collected packages: opendatasets\n",
      "Successfully installed opendatasets-0.1.22\n",
      "Please provide your Kaggle credentials to download this dataset. Learn more: http://bit.ly/kaggle-creds\n",
      "Your Kaggle username: pinky1234\n",
      "Your Kaggle Key: ··········\n",
      "Downloading brain-tumor-mri-dataset.zip to ./brain-tumor-mri-dataset\n"
     ]
    },
    {
     "name": "stderr",
     "output_type": "stream",
     "text": [
      "100%|██████████| 149M/149M [00:01<00:00, 108MB/s]\n"
     ]
    },
    {
     "name": "stdout",
     "output_type": "stream",
     "text": [
      "\n"
     ]
    }
   ],
   "source": [
    "!pip install opendatasets --upgrade\n",
    "import opendatasets as od\n",
    "\n",
    "dataset_url = 'https://www.kaggle.com/datasets/masoudnickparvar/brain-tumor-mri-dataset?select=Training'\n",
    "od.download(dataset_url)"
   ]
  },
  {
   "cell_type": "code",
   "execution_count": 3,
   "metadata": {
    "id": "BX5jW26I26H1"
   },
   "outputs": [],
   "source": [
    "data_dir = \"/content/brain-tumor-mri-dataset/Training\""
   ]
  },
  {
   "cell_type": "markdown",
   "metadata": {
    "id": "4NS-v_XuR-Jl"
   },
   "source": [
    "#VGG16"
   ]
  },
  {
   "cell_type": "code",
   "execution_count": 4,
   "metadata": {
    "id": "6BjSq5Nf3NTc"
   },
   "outputs": [],
   "source": [
    "from keras.applications.vgg16 import VGG16, preprocess_input\n",
    "from keras.preprocessing.image import ImageDataGenerator\n",
    "from keras.callbacks import ModelCheckpoint, EarlyStopping\n",
    "from keras.layers import Dense, Dropout, Flatten\n",
    "from pathlib import Path\n"
   ]
  },
  {
   "cell_type": "code",
   "execution_count": 5,
   "metadata": {
    "id": "LAMVxQvn3R5r"
   },
   "outputs": [],
   "source": [
    "IMAGE_SIZE=[224,224]"
   ]
  },
  {
   "cell_type": "code",
   "execution_count": 6,
   "metadata": {
    "id": "b62Bo2Qe3g4_"
   },
   "outputs": [],
   "source": [
    "train_generator = ImageDataGenerator(rescale=1./255,shear_range=0.2,zoom_range=0.2,horizontal_flip=True,validation_split=0.15,preprocessing_function=preprocess_input)\n",
    "val_generator = ImageDataGenerator(rescale=1./255,preprocessing_function=preprocess_input)\n",
    "test_generator = ImageDataGenerator(rescale=1./255,preprocessing_function=preprocess_input)"
   ]
  },
  {
   "cell_type": "code",
   "execution_count": 9,
   "metadata": {
    "colab": {
     "base_uri": "https://localhost:8080/"
    },
    "id": "46iPJuOj3iZ3",
    "outputId": "c246611f-93f8-4309-d3da-2a5e4b9153a8"
   },
   "outputs": [
    {
     "name": "stdout",
     "output_type": "stream",
     "text": [
      "Found 4857 images belonging to 4 classes.\n"
     ]
    }
   ],
   "source": [
    "traingen = train_generator.flow_from_directory(data_dir,\n",
    "                                               target_size=(224,224),\n",
    "                                               subset='training',\n",
    "                                               batch_size=32,\n",
    "                                               shuffle=True,\n",
    "                                               seed =42)"
   ]
  },
  {
   "cell_type": "code",
   "execution_count": 10,
   "metadata": {
    "colab": {
     "base_uri": "https://localhost:8080/"
    },
    "id": "ExAExVxhSEtw",
    "outputId": "feebd061-b8fe-4bbd-c168-6c22311ec744"
   },
   "outputs": [
    {
     "name": "stdout",
     "output_type": "stream",
     "text": [
      "Found 855 images belonging to 4 classes.\n"
     ]
    }
   ],
   "source": [
    "valgen = train_generator.flow_from_directory(data_dir,\n",
    "                                               target_size=(224,224),\n",
    "                                               subset='validation',\n",
    "                                               batch_size=32,\n",
    "                                               shuffle=True,\n",
    "                                               seed =42)"
   ]
  },
  {
   "cell_type": "code",
   "execution_count": 11,
   "metadata": {
    "colab": {
     "base_uri": "https://localhost:8080/"
    },
    "id": "njgZSChMSgSf",
    "outputId": "0e77b4cb-115e-4765-d8f7-869a044a48e1"
   },
   "outputs": [
    {
     "name": "stdout",
     "output_type": "stream",
     "text": [
      "Found 1311 images belonging to 4 classes.\n"
     ]
    }
   ],
   "source": [
    "testgen = test_generator.flow_from_directory('/content/brain-tumor-mri-dataset/Testing',\n",
    "                                               target_size=(224,224),\n",
    "                                               shuffle=False,\n",
    "                                               seed =42)"
   ]
  },
  {
   "cell_type": "code",
   "execution_count": 28,
   "metadata": {
    "id": "xveNj6_MSxAT"
   },
   "outputs": [],
   "source": [
    "def create_model(input_shape, n_classes, optimizer='rmsprop', fine_tune=0):\n",
    "  conv_base = VGG16(include_top=False,\n",
    "                     weights='imagenet', \n",
    "                     input_shape=input_shape)\n",
    "  if fine_tune > 0:\n",
    "        for layer in conv_base.layers[:-fine_tune]:\n",
    "            layer.trainable = False\n",
    "  else:\n",
    "    for layer in conv_base.layers:\n",
    "      layer.trainable = False\n",
    "  top_model = conv_base.output\n",
    "  top_model = Flatten(name=\"flatten\")(top_model)\n",
    "  top_model = Dense(4096, activation='relu')(top_model)\n",
    "  top_model = Dense(1072, activation='relu')(top_model)\n",
    "  top_model = Dropout(0.2)(top_model)\n",
    "  output_layer = Dense(n_classes,activation='softmax')(top_model)\n",
    "  model = Model(inputs=conv_base.input, outputs=output_layer)\n",
    "  model.compile(optimizer=optimizer, \n",
    "                  loss='categorical_crossentropy',\n",
    "                  metrics=['accuracy'])\n",
    "  return model"
   ]
  },
  {
   "cell_type": "code",
   "execution_count": 29,
   "metadata": {
    "id": "Q7-x9tEwS-Xi"
   },
   "outputs": [],
   "source": [
    "BATCH_SIZE = 32"
   ]
  },
  {
   "cell_type": "code",
   "execution_count": 33,
   "metadata": {
    "id": "pr0QwnsoS_Yy"
   },
   "outputs": [],
   "source": [
    "input_shape = (224,224, 3)\n",
    "optim_1 = optimizers.RMSprop(.001)\n",
    "n_classes=4\n",
    "optim_2 = Adam(learning_rate=0.001)\n",
    "\n",
    "n_steps = traingen.samples // BATCH_SIZE\n",
    "n_val_steps = valgen.samples // BATCH_SIZE\n",
    "n_epochs = 10\n",
    "vgg_model = create_model(input_shape, n_classes, optim_1, fine_tune=0)\n",
    "vgg_model1 = create_model(input_shape, n_classes, optim_2, fine_tune=0)"
   ]
  },
  {
   "cell_type": "code",
   "execution_count": 35,
   "metadata": {
    "id": "UqOLCF9GTbC3"
   },
   "outputs": [],
   "source": [
    "best_model1 = ModelCheckpoint(filepath='vgg_brain.h5',\n",
    "                                  save_best_only=True,\n",
    "                                  verbose=1)\n",
    "\n",
    "# EarlyStopping\n",
    "early_stop = EarlyStopping(monitor='val_loss',\n",
    "                           patience=3,\n",
    "                           restore_best_weights=True,\n",
    "                           mode='min')"
   ]
  },
  {
   "cell_type": "code",
   "execution_count": 36,
   "metadata": {
    "colab": {
     "base_uri": "https://localhost:8080/"
    },
    "id": "H3vwrMl-Tym-",
    "outputId": "8b042f35-ba33-4d29-f849-6433123445a7"
   },
   "outputs": [
    {
     "name": "stdout",
     "output_type": "stream",
     "text": [
      "Epoch 1/10\n",
      "151/151 [==============================] - ETA: 0s - loss: 4.7538 - accuracy: 0.6099\n",
      "Epoch 1: val_loss improved from inf to 0.85068, saving model to vgg_brain.h5\n",
      "151/151 [==============================] - 101s 663ms/step - loss: 4.7538 - accuracy: 0.6099 - val_loss: 0.8507 - val_accuracy: 0.6755\n",
      "Epoch 2/10\n",
      "151/151 [==============================] - ETA: 0s - loss: 0.5171 - accuracy: 0.8033\n",
      "Epoch 2: val_loss improved from 0.85068 to 0.61517, saving model to vgg_brain.h5\n",
      "151/151 [==============================] - 99s 655ms/step - loss: 0.5171 - accuracy: 0.8033 - val_loss: 0.6152 - val_accuracy: 0.7212\n",
      "Epoch 3/10\n",
      "151/151 [==============================] - ETA: 0s - loss: 0.4041 - accuracy: 0.8578\n",
      "Epoch 3: val_loss did not improve from 0.61517\n",
      "151/151 [==============================] - 95s 630ms/step - loss: 0.4041 - accuracy: 0.8578 - val_loss: 0.6371 - val_accuracy: 0.7873\n",
      "Epoch 4/10\n",
      "151/151 [==============================] - ETA: 0s - loss: 0.3337 - accuracy: 0.8794\n",
      "Epoch 4: val_loss did not improve from 0.61517\n",
      "151/151 [==============================] - 94s 623ms/step - loss: 0.3337 - accuracy: 0.8794 - val_loss: 0.6794 - val_accuracy: 0.7704\n",
      "Epoch 5/10\n",
      "151/151 [==============================] - ETA: 0s - loss: 0.3109 - accuracy: 0.8902\n",
      "Epoch 5: val_loss improved from 0.61517 to 0.43769, saving model to vgg_brain.h5\n",
      "151/151 [==============================] - 100s 662ms/step - loss: 0.3109 - accuracy: 0.8902 - val_loss: 0.4377 - val_accuracy: 0.8642\n",
      "Epoch 6/10\n",
      "151/151 [==============================] - ETA: 0s - loss: 0.2795 - accuracy: 0.8970\n",
      "Epoch 6: val_loss improved from 0.43769 to 0.37892, saving model to vgg_brain.h5\n",
      "151/151 [==============================] - 100s 659ms/step - loss: 0.2795 - accuracy: 0.8970 - val_loss: 0.3789 - val_accuracy: 0.8834\n",
      "Epoch 7/10\n",
      "151/151 [==============================] - ETA: 0s - loss: 0.2747 - accuracy: 0.9082\n",
      "Epoch 7: val_loss did not improve from 0.37892\n",
      "151/151 [==============================] - 96s 633ms/step - loss: 0.2747 - accuracy: 0.9082 - val_loss: 0.4451 - val_accuracy: 0.8486\n",
      "Epoch 8/10\n",
      "151/151 [==============================] - ETA: 0s - loss: 0.2592 - accuracy: 0.9148\n",
      "Epoch 8: val_loss did not improve from 0.37892\n",
      "151/151 [==============================] - 98s 645ms/step - loss: 0.2592 - accuracy: 0.9148 - val_loss: 0.3847 - val_accuracy: 0.8882\n",
      "Epoch 9/10\n",
      "151/151 [==============================] - ETA: 0s - loss: 0.2447 - accuracy: 0.9235\n",
      "Epoch 9: val_loss did not improve from 0.37892\n",
      "151/151 [==============================] - 96s 637ms/step - loss: 0.2447 - accuracy: 0.9235 - val_loss: 0.7070 - val_accuracy: 0.8510\n"
     ]
    }
   ],
   "source": [
    "vgg_history = vgg_model.fit(traingen,\n",
    "                            batch_size=BATCH_SIZE,\n",
    "                            epochs=n_epochs,\n",
    "                            validation_data=valgen,\n",
    "                            steps_per_epoch=n_steps,\n",
    "                            validation_steps=n_val_steps,\n",
    "                            callbacks=[best_model1, early_stop],\n",
    "                            verbose=1)"
   ]
  },
  {
   "cell_type": "code",
   "execution_count": 38,
   "metadata": {
    "id": "fahKfJjGhR33"
   },
   "outputs": [],
   "source": [
    "vgg_preds = vgg_model.predict(testgen)\n",
    "vgg_pred_classes = np.argmax(vgg_preds, axis=1)"
   ]
  },
  {
   "cell_type": "code",
   "execution_count": 39,
   "metadata": {
    "id": "F_LLAbVfiEeA"
   },
   "outputs": [],
   "source": [
    "true_classes = testgen.classes\n",
    "class_indices = traingen.class_indices\n",
    "class_indices = dict((v,k) for k,v in class_indices.items())"
   ]
  },
  {
   "cell_type": "code",
   "execution_count": 40,
   "metadata": {
    "id": "mNL7OABBiIZV"
   },
   "outputs": [],
   "source": [
    "from sklearn.metrics import accuracy_score"
   ]
  },
  {
   "cell_type": "code",
   "execution_count": 42,
   "metadata": {
    "colab": {
     "base_uri": "https://localhost:8080/"
    },
    "id": "P0iffFBNiMzW",
    "outputId": "fb1f090f-e2d4-43c0-ced4-cab6bba9b57e"
   },
   "outputs": [
    {
     "name": "stdout",
     "output_type": "stream",
     "text": [
      "VGG16 Model Accuracy without Fine-Tuning: 87.19%\n"
     ]
    }
   ],
   "source": [
    "vgg_acc = accuracy_score(true_classes, vgg_pred_classes)\n",
    "print(\"VGG16 Model Accuracy without Fine-Tuning: {:.2f}%\".format(vgg_acc * 100))"
   ]
  },
  {
   "cell_type": "code",
   "execution_count": null,
   "metadata": {
    "id": "33rdfbHZiSBW"
   },
   "outputs": [],
   "source": []
  },
  {
   "cell_type": "markdown",
   "metadata": {
    "id": "fLwcllmTiSoP"
   },
   "source": [
    "#MobileNet"
   ]
  },
  {
   "cell_type": "code",
   "execution_count": 43,
   "metadata": {
    "colab": {
     "base_uri": "https://localhost:8080/"
    },
    "id": "d080nYtliU9Q",
    "outputId": "bda6c61a-7193-4451-bf35-1b6024566735"
   },
   "outputs": [
    {
     "name": "stdout",
     "output_type": "stream",
     "text": [
      "Downloading data from https://storage.googleapis.com/tensorflow/keras-applications/mobilenet_v2/mobilenet_v2_weights_tf_dim_ordering_tf_kernels_1.0_224_no_top.h5\n",
      "9412608/9406464 [==============================] - 0s 0us/step\n",
      "9420800/9406464 [==============================] - 0s 0us/step\n"
     ]
    }
   ],
   "source": [
    "import tensorflow as tf\n",
    "IMG_SHAPE = (224,224,3)\n",
    "base_model = tf.keras.applications.MobileNetV2(input_shape=IMG_SHAPE,\n",
    "                                              include_top=False,\n",
    "                                              weights='imagenet')"
   ]
  },
  {
   "cell_type": "code",
   "execution_count": 44,
   "metadata": {
    "id": "077RCLmLi2DY"
   },
   "outputs": [],
   "source": [
    "best_model3 = ModelCheckpoint(filepath='best_modelmo.h5',\n",
    "                                  save_best_only=True,\n",
    "                                  verbose=1)"
   ]
  },
  {
   "cell_type": "code",
   "execution_count": 55,
   "metadata": {
    "id": "MYhGLBSqjCBX"
   },
   "outputs": [],
   "source": [
    "base_model.trainable = False\n",
    "model = tf.keras.Sequential([\n",
    "                          base_model,\n",
    "                          keras.layers.GlobalAveragePooling2D(),\n",
    "                          keras.layers.Dense(4, activation='softmax')])"
   ]
  },
  {
   "cell_type": "code",
   "execution_count": 56,
   "metadata": {
    "colab": {
     "base_uri": "https://localhost:8080/"
    },
    "id": "EBamBke5jLQP",
    "outputId": "6227a9f8-01fd-4125-adf5-7f5f1f685c63"
   },
   "outputs": [
    {
     "name": "stderr",
     "output_type": "stream",
     "text": [
      "/usr/local/lib/python3.7/dist-packages/keras/optimizer_v2/rmsprop.py:130: UserWarning: The `lr` argument is deprecated, use `learning_rate` instead.\n",
      "  super(RMSprop, self).__init__(name, **kwargs)\n"
     ]
    }
   ],
   "source": [
    "model.compile(optimizer=tf.keras.optimizers.RMSprop(lr=0.01),\n",
    "              loss='categorical_crossentropy',\n",
    "                  metrics=['accuracy'])"
   ]
  },
  {
   "cell_type": "code",
   "execution_count": 57,
   "metadata": {
    "colab": {
     "base_uri": "https://localhost:8080/"
    },
    "id": "FJ8kPA53jenm",
    "outputId": "a3f68a14-6879-4ad7-8d28-69c48af903b5"
   },
   "outputs": [
    {
     "name": "stdout",
     "output_type": "stream",
     "text": [
      "Epoch 1/10\n",
      "151/151 [==============================] - ETA: 0s - loss: 1.0483 - accuracy: 0.7652\n",
      "Epoch 1: val_loss improved from inf to 0.58725, saving model to best_modelmo.h5\n",
      "151/151 [==============================] - 87s 558ms/step - loss: 1.0483 - accuracy: 0.7652 - val_loss: 0.5873 - val_accuracy: 0.8353\n",
      "Epoch 2/10\n",
      "151/151 [==============================] - ETA: 0s - loss: 0.6931 - accuracy: 0.8423\n",
      "Epoch 2: val_loss did not improve from 0.58725\n",
      "151/151 [==============================] - 82s 543ms/step - loss: 0.6931 - accuracy: 0.8423 - val_loss: 0.7569 - val_accuracy: 0.8257\n",
      "Epoch 3/10\n",
      "151/151 [==============================] - ETA: 0s - loss: 0.5632 - accuracy: 0.8674\n",
      "Epoch 3: val_loss improved from 0.58725 to 0.53859, saving model to best_modelmo.h5\n",
      "151/151 [==============================] - 82s 546ms/step - loss: 0.5632 - accuracy: 0.8674 - val_loss: 0.5386 - val_accuracy: 0.8702\n",
      "Epoch 4/10\n",
      "151/151 [==============================] - ETA: 0s - loss: 0.5499 - accuracy: 0.8819\n",
      "Epoch 4: val_loss did not improve from 0.53859\n",
      "151/151 [==============================] - 82s 546ms/step - loss: 0.5499 - accuracy: 0.8819 - val_loss: 1.6844 - val_accuracy: 0.6911\n",
      "Epoch 5/10\n",
      "151/151 [==============================] - ETA: 0s - loss: 0.5175 - accuracy: 0.8829\n",
      "Epoch 5: val_loss did not improve from 0.53859\n",
      "151/151 [==============================] - 82s 545ms/step - loss: 0.5175 - accuracy: 0.8829 - val_loss: 0.7785 - val_accuracy: 0.8606\n",
      "Epoch 6/10\n",
      "151/151 [==============================] - ETA: 0s - loss: 0.4462 - accuracy: 0.8943\n",
      "Epoch 6: val_loss did not improve from 0.53859\n",
      "151/151 [==============================] - 81s 537ms/step - loss: 0.4462 - accuracy: 0.8943 - val_loss: 0.6964 - val_accuracy: 0.8522\n"
     ]
    }
   ],
   "source": [
    "model_history = model.fit(traingen,\n",
    "                            batch_size=BATCH_SIZE,\n",
    "                            epochs=n_epochs,\n",
    "                            validation_data=valgen,\n",
    "                            steps_per_epoch=n_steps,\n",
    "                            validation_steps=n_val_steps,\n",
    "                            callbacks=[best_model3, early_stop],\n",
    "                            verbose=1)"
   ]
  }
 ],
 "metadata": {
  "accelerator": "GPU",
  "colab": {
   "name": "Untitled0.ipynb",
   "provenance": []
  },
  "kernelspec": {
   "display_name": "Python 3 (ipykernel)",
   "language": "python",
   "name": "python3"
  },
  "language_info": {
   "codemirror_mode": {
    "name": "ipython",
    "version": 3
   },
   "file_extension": ".py",
   "mimetype": "text/x-python",
   "name": "python",
   "nbconvert_exporter": "python",
   "pygments_lexer": "ipython3",
   "version": "3.9.7"
  }
 },
 "nbformat": 4,
 "nbformat_minor": 1
}
